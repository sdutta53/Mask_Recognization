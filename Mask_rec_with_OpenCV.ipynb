{
 "cells": [
  {
   "cell_type": "code",
   "execution_count": 2,
   "metadata": {},
   "outputs": [
    {
     "name": "stdout",
     "output_type": "stream",
     "text": [
      "1.10.0\n"
     ]
    }
   ],
   "source": [
    "import tensorflow as tf\n",
    "from tensorflow.keras.preprocessing import image\n",
    "import numpy as np\n",
    "import cv2\n",
    "print(tf.__version__)"
   ]
  },
  {
   "cell_type": "code",
   "execution_count": 3,
   "metadata": {},
   "outputs": [],
   "source": [
    "loaded_model = tf.keras.models.load_model(\"F:/Study Materials/Summer 2020/Mask_recg/model_just_load.h5\")\n",
    "#Copyright (C) 2000, Intel Corporation, all rights reserved.\n",
    "# Third party copyrights are property of their respective owners.\n",
    "face_cascade = cv2.CascadeClassifier(\"haarcascade_frontalface_default.xml\")"
   ]
  },
  {
   "cell_type": "code",
   "execution_count": 5,
   "metadata": {},
   "outputs": [],
   "source": [
    "cap = cv2.VideoCapture(0)                                           # 0 stands for webcam \n",
    "\n",
    "#fourcc = cv2.VideoWriter_fourcc(*'XVID')\n",
    "#out = cv2.VideoWriter(\"Mask_rec.mp4\",fourcc,20.0,(640,480)) \n",
    "\n",
    "#print(cap.get(cv2.CAP_PROP_FRAME_WIDTH))                            # get and print Frame Width\n",
    "#print(cap.get(cv2.CAP_PROP_FRAME_HEIGHT))                           # get and print Frame Height\n",
    "\n",
    "while(cap.isOpened()):                                              # if we can capture the video then True\n",
    "    ret, frame = cap.read()                                         # read the capture and store in Frame\n",
    "    if ret:\n",
    "        \n",
    "        \n",
    "        grey = cv2.cvtColor(frame,cv2.COLOR_BGR2GRAY)               # convert the frame to greyscale\n",
    "        faces = face_cascade.detectMultiScale(grey, 1.1, 4)         # detect the faces from the greyscale frame\n",
    "\n",
    "        for (x, y, w, h) in faces:\n",
    "            \n",
    "            face = frame[y:y+h,x:x+w]                               # get the face image \n",
    "            face = cv2.resize(face,(150,150))                       # resize the face image to (150,150)\n",
    "            \n",
    "            face=image.img_to_array(face)                           # convert the image to array\n",
    "            face=np.expand_dims(face,axis=0)                        # expand the dim of the array\n",
    "            images = np.vstack([face])                              # stack the sequence of input array vertically\n",
    "            \n",
    "            classes = loaded_model.predict(images)                  # predict the class(i.e. mask or no mask) using loaded model \n",
    "            \n",
    "            font = cv2.FONT_HERSHEY_SIMPLEX                                      \n",
    "            if classes==1:\n",
    "                rect = cv2.rectangle(frame, (x,y), (x+w,y+h), (255,255,255), 3)       # draw the rectangle\n",
    "                cv2.putText(rect,\"Mask\",(x,y-10), font, 0.75,(255,255,255),1)         # print text on the video  \n",
    " #               out.write(frame)                                                  # save the output\n",
    "            else:\n",
    "                rect = cv2.rectangle(frame, (x,y), (x+w,y+h), (0,0,255), 3)\n",
    "                cv2.putText(rect,\"No Mask\",(x,y-10), font, 0.75,(0,0,255),1)\n",
    " #               out.write(frame)\n",
    "                \n",
    "        cv2.imshow(\"Face_detect\",rect)                              # show the frame\n",
    "        \n",
    "        if cv2.waitKey(1) & 0xFF == ord('q'):                       # if q is pressed break(Case Sensitive)\n",
    "            break\n",
    "    else:\n",
    "        break\n",
    "        \n",
    "cap.release()                                                       # release the captured video\n",
    "#out.release()\n",
    "cv2.destroyAllWindows()                                             # destroy all windows"
   ]
  },
  {
   "cell_type": "code",
   "execution_count": null,
   "metadata": {},
   "outputs": [],
   "source": []
  }
 ],
 "metadata": {
  "kernelspec": {
   "display_name": "Python 3",
   "language": "python",
   "name": "python3"
  },
  "language_info": {
   "codemirror_mode": {
    "name": "ipython",
    "version": 3
   },
   "file_extension": ".py",
   "mimetype": "text/x-python",
   "name": "python",
   "nbconvert_exporter": "python",
   "pygments_lexer": "ipython3",
   "version": "3.6.10"
  }
 },
 "nbformat": 4,
 "nbformat_minor": 4
}
